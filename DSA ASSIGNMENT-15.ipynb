{
 "cells": [
  {
   "cell_type": "code",
   "execution_count": 1,
   "id": "65b5c68a",
   "metadata": {},
   "outputs": [
    {
     "name": "stdout",
     "output_type": "stream",
     "text": [
      "[5, 25, 25, -1, -1, -1]\n"
     ]
    }
   ],
   "source": [
    "# <aside>\n",
    "# 💡 **Question 1**\n",
    "\n",
    "# Given an array **arr[ ]** of size **N** having elements, the task is to find the next greater element for each element of the array in order of their appearance in the array.Next greater element of an element in the array is the nearest element on the right which is greater than the current element.If there does not exist next greater of current element, then next greater element for current element is -1. For example, next greater of the last element is always -1.\n",
    "\n",
    "# </aside>\n",
    "\n",
    "def findNextGreater(arr):\n",
    "    stack = []\n",
    "    result = [-1] * len(arr)\n",
    "\n",
    "    for i in range(len(arr) - 1, -1, -1):\n",
    "        while stack and arr[i] >= stack[-1]:\n",
    "            stack.pop()\n",
    "\n",
    "        if stack:\n",
    "            result[i] = stack[-1]\n",
    "\n",
    "        stack.append(arr[i])\n",
    "\n",
    "    return result\n",
    "\n",
    "# Example usage:\n",
    "arr = [4, 5, 2, 25, 10, 8]\n",
    "next_greater = findNextGreater(arr)\n",
    "print(next_greater)\n"
   ]
  },
  {
   "cell_type": "code",
   "execution_count": 2,
   "id": "528c1352",
   "metadata": {},
   "outputs": [
    {
     "name": "stdout",
     "output_type": "stream",
     "text": [
      "[-1, 4, -1, 2, 2]\n"
     ]
    }
   ],
   "source": [
    "# <aside>\n",
    "# 💡 **Question 2**\n",
    "\n",
    "# Given an array **a** of integers of length **n**, find the nearest smaller number for every element such that the smaller element is on left side.If no small element present on the left print -1\n",
    "\n",
    "# </aside>\n",
    "\n",
    "def findNearestSmaller(a):\n",
    "    stack = []\n",
    "    result = [-1] * len(a)\n",
    "\n",
    "    for i in range(len(a)):\n",
    "        while stack and stack[-1] >= a[i]:\n",
    "            stack.pop()\n",
    "\n",
    "        if stack:\n",
    "            result[i] = stack[-1]\n",
    "\n",
    "        stack.append(a[i])\n",
    "\n",
    "    return result\n",
    "\n",
    "# Example usage:\n",
    "a = [4, 5, 2, 10, 8]\n",
    "nearest_smaller = findNearestSmaller(a)\n",
    "print(nearest_smaller)\n"
   ]
  },
  {
   "cell_type": "code",
   "execution_count": 3,
   "id": "ff4ed1e1",
   "metadata": {},
   "outputs": [
    {
     "name": "stdout",
     "output_type": "stream",
     "text": [
      "[5, 4, 3, 2, 1]\n"
     ]
    }
   ],
   "source": [
    "# <aside>\n",
    "# 💡 **Question 4**\n",
    "\n",
    "# You are given a stack **St**. You have to reverse the stack using recursion.\n",
    "\n",
    "# </aside>\n",
    "\n",
    "def reverseStack(stack):\n",
    "    if not stack:\n",
    "        return\n",
    "    \n",
    "    top = stack.pop()\n",
    "    reverseStack(stack)\n",
    "    insertAtBottom(stack, top)\n",
    "\n",
    "def insertAtBottom(stack, element):\n",
    "    if not stack:\n",
    "        stack.append(element)\n",
    "        return\n",
    "    \n",
    "    top = stack.pop()\n",
    "    insertAtBottom(stack, element)\n",
    "    stack.append(top)\n",
    "\n",
    "# Example usage:\n",
    "stack = [1, 2, 3, 4, 5]\n",
    "reverseStack(stack)\n",
    "print(stack)\n"
   ]
  },
  {
   "cell_type": "code",
   "execution_count": 4,
   "id": "937fad6a",
   "metadata": {},
   "outputs": [
    {
     "name": "stdout",
     "output_type": "stream",
     "text": [
      "!dlroW ,olleH\n"
     ]
    }
   ],
   "source": [
    "# <aside>\n",
    "# 💡 **Question 5**\n",
    "\n",
    "# You are given a string **S**, the task is to reverse the string using stack.\n",
    "\n",
    "# **Example 1:**\n",
    "\n",
    "# </aside>\n",
    "\n",
    "def reverseString(s):\n",
    "    stack = []\n",
    "    reversedString = \"\"\n",
    "\n",
    "    # Push characters onto the stack\n",
    "    for char in s:\n",
    "        stack.append(char)\n",
    "\n",
    "    # Pop characters from the stack and append to reversedString\n",
    "    while stack:\n",
    "        reversedString += stack.pop()\n",
    "\n",
    "    return reversedString\n",
    "\n",
    "# Example usage:\n",
    "s = \"Hello, World!\"\n",
    "reversedStr = reverseString(s)\n",
    "print(reversedStr)\n"
   ]
  },
  {
   "cell_type": "code",
   "execution_count": 5,
   "id": "9507f007",
   "metadata": {},
   "outputs": [
    {
     "name": "stdout",
     "output_type": "stream",
     "text": [
      "48\n"
     ]
    }
   ],
   "source": [
    "# <aside>\n",
    "# 💡 **Question 6**\n",
    "\n",
    "# Given string **S** representing a postfix expression, the task is to evaluate the expression and find the final value. Operators will only include the basic arithmetic operators like ***, /, + and -**.\n",
    "\n",
    "# </aside>\n",
    "\n",
    "def evaluatePostfix(expression):\n",
    "    stack = []\n",
    "\n",
    "    for char in expression:\n",
    "        if char.isdigit():\n",
    "            stack.append(int(char))\n",
    "        else:\n",
    "            operand2 = stack.pop()\n",
    "            operand1 = stack.pop()\n",
    "\n",
    "            if char == '+':\n",
    "                result = operand1 + operand2\n",
    "            elif char == '-':\n",
    "                result = operand1 - operand2\n",
    "            elif char == '*':\n",
    "                result = operand1 * operand2\n",
    "            elif char == '/':\n",
    "                result = operand1 / operand2\n",
    "\n",
    "            stack.append(result)\n",
    "\n",
    "    return stack.pop()\n",
    "\n",
    "# Example usage:\n",
    "expression = \"53+82-*\"\n",
    "result = evaluatePostfix(expression)\n",
    "print(result)\n"
   ]
  },
  {
   "cell_type": "code",
   "execution_count": 6,
   "id": "ab3b6f0a",
   "metadata": {},
   "outputs": [],
   "source": [
    "# <aside>\n",
    "# 💡 **Question 7**\n",
    "\n",
    "# Design a stack that supports push, pop, top, and retrieving the minimum element in constant time.\n",
    "\n",
    "# Implement the `MinStack` class:\n",
    "\n",
    "# - `MinStack()` initializes the stack object.\n",
    "# - `void push(int val)` pushes the element `val` onto the stack.\n",
    "# - `void pop()` removes the element on the top of the stack.\n",
    "# - `int top()` gets the top element of the stack.\n",
    "# - `int getMin()` retrieves the minimum element in the stack.\n",
    "\n",
    "# You must implement a solution with `O(1)` time complexity for each function.\n",
    "\n",
    "# </aside>\n",
    "\n",
    "class MinStack:\n",
    "    def __init__(self):\n",
    "        self.stack = []\n",
    "        self.min_stack = []\n",
    "\n",
    "    def push(self, val):\n",
    "        self.stack.append(val)\n",
    "        if not self.min_stack or val <= self.min_stack[-1]:\n",
    "            self.min_stack.append(val)\n",
    "\n",
    "    def pop(self):\n",
    "        if self.stack:\n",
    "            if self.stack[-1] == self.min_stack[-1]:\n",
    "                self.min_stack.pop()\n",
    "            self.stack.pop()\n",
    "\n",
    "    def top(self):\n",
    "        if self.stack:\n",
    "            return self.stack[-1]\n",
    "\n",
    "    def getMin(self):\n",
    "        if self.min_stack:\n",
    "            return self.min_stack[-1]\n"
   ]
  },
  {
   "cell_type": "code",
   "execution_count": null,
   "id": "7938835d",
   "metadata": {},
   "outputs": [],
   "source": []
  }
 ],
 "metadata": {
  "kernelspec": {
   "display_name": "Python 3 (ipykernel)",
   "language": "python",
   "name": "python3"
  },
  "language_info": {
   "codemirror_mode": {
    "name": "ipython",
    "version": 3
   },
   "file_extension": ".py",
   "mimetype": "text/x-python",
   "name": "python",
   "nbconvert_exporter": "python",
   "pygments_lexer": "ipython3",
   "version": "3.9.13"
  }
 },
 "nbformat": 4,
 "nbformat_minor": 5
}
