{
 "cells": [
  {
   "cell_type": "code",
   "execution_count": 1,
   "id": "a84242f1",
   "metadata": {},
   "outputs": [
    {
     "name": "stdout",
     "output_type": "stream",
     "text": [
      "True\n"
     ]
    }
   ],
   "source": [
    "# <aside>\n",
    "# 💡 **Question 1**\n",
    "\n",
    "# Given two strings s and t, *determine if they are isomorphic*.\n",
    "\n",
    "# Two strings s and t are isomorphic if the characters in s can be replaced to get t.\n",
    "\n",
    "# All occurrences of a character must be replaced with another character while preserving the order of characters. No two characters may map to the same character, but a character may map to itself.\n",
    "\n",
    "# **Example 1:**\n",
    "\n",
    "# **Input:** s = \"egg\", t = \"add\"\n",
    "\n",
    "# **Output:** true\n",
    "\n",
    "# </aside>\n",
    "\n",
    "def is_isomorphic(s, t):\n",
    "    if len(s) != len(t):\n",
    "        return False\n",
    "\n",
    "    s_map = {}\n",
    "    t_map = {}\n",
    "\n",
    "    for s_char, t_char in zip(s, t):\n",
    "        if s_char in s_map and t_char in t_map:\n",
    "            if s_map[s_char] != t_char or t_map[t_char] != s_char:\n",
    "                return False\n",
    "        elif s_char not in s_map and t_char not in t_map:\n",
    "            s_map[s_char] = t_char\n",
    "            t_map[t_char] = s_char\n",
    "        else:\n",
    "            return False\n",
    "\n",
    "    return True\n",
    "\n",
    "# Example usage:\n",
    "s = \"egg\"\n",
    "t = \"add\"\n",
    "print(is_isomorphic(s, t))  # Output: True\n"
   ]
  },
  {
   "cell_type": "code",
   "execution_count": 2,
   "id": "6e674831",
   "metadata": {},
   "outputs": [
    {
     "name": "stdout",
     "output_type": "stream",
     "text": [
      "True\n"
     ]
    }
   ],
   "source": [
    "# <aside>\n",
    "# 💡 **Question 2**\n",
    "\n",
    "# Given a string num which represents an integer, return true *if* num *is a **strobogrammatic number***.\n",
    "\n",
    "# A **strobogrammatic number** is a number that looks the same when rotated 180 degrees (looked at upside down).\n",
    "\n",
    "# **Example 1:**\n",
    "\n",
    "# **Input:** num = \"69\"\n",
    "\n",
    "# **Output:**\n",
    "\n",
    "# true\n",
    "\n",
    "# </aside>\n",
    "\n",
    "def is_strobogrammatic(num):\n",
    "    digit_map = {\n",
    "        \"0\": \"0\",\n",
    "        \"1\": \"1\",\n",
    "        \"6\": \"9\",\n",
    "        \"8\": \"8\",\n",
    "        \"9\": \"6\"\n",
    "    }\n",
    "\n",
    "    left = 0\n",
    "    right = len(num) - 1\n",
    "\n",
    "    while left <= right:\n",
    "        if num[left] not in digit_map or digit_map[num[left]] != num[right]:\n",
    "            return False\n",
    "        left += 1\n",
    "        right -= 1\n",
    "\n",
    "    return True\n",
    "\n",
    "# Example usage:\n",
    "num = \"69\"\n",
    "print(is_strobogrammatic(num))  # Output: True\n"
   ]
  },
  {
   "cell_type": "code",
   "execution_count": 3,
   "id": "4631e485",
   "metadata": {},
   "outputs": [
    {
     "name": "stdout",
     "output_type": "stream",
     "text": [
      "134\n"
     ]
    }
   ],
   "source": [
    "# <aside>\n",
    "# 💡 **Question 3**\n",
    "\n",
    "# Given two non-negative integers, num1 and num2 represented as string, return *the sum of* num1 *and* num2 *as a string*.\n",
    "\n",
    "# You must solve the problem without using any built-in library for handling large integers (such as BigInteger). You must also not convert the inputs to integers directly.\n",
    "\n",
    "# **Example 1:**\n",
    "\n",
    "# **Input:** num1 = \"11\", num2 = \"123\"\n",
    "\n",
    "# **Output:**\n",
    "\n",
    "# \"134\"\n",
    "\n",
    "# </aside>\n",
    "\n",
    "def addStrings(num1, num2):\n",
    "    i = len(num1) - 1\n",
    "    j = len(num2) - 1\n",
    "    carry = 0\n",
    "    result = \"\"\n",
    "\n",
    "    while i >= 0 or j >= 0 or carry != 0:\n",
    "        if i >= 0:\n",
    "            carry += int(num1[i])\n",
    "            i -= 1\n",
    "        if j >= 0:\n",
    "            carry += int(num2[j])\n",
    "            j -= 1\n",
    "        result = str(carry % 10) + result\n",
    "        carry //= 10\n",
    "\n",
    "    return result\n",
    "\n",
    "# Example usage:\n",
    "num1 = \"11\"\n",
    "num2 = \"123\"\n",
    "print(addStrings(num1, num2))  # Output: \"134\"\n"
   ]
  },
  {
   "cell_type": "code",
   "execution_count": 4,
   "id": "198cd485",
   "metadata": {},
   "outputs": [
    {
     "name": "stdout",
     "output_type": "stream",
     "text": [
      "s'teL ekat edoCteeL tsetnoc\n"
     ]
    }
   ],
   "source": [
    "# <aside>\n",
    "# 💡 **Question 4**\n",
    "\n",
    "# Given a string s, reverse the order of characters in each word within a sentence while still preserving whitespace and initial word order.\n",
    "\n",
    "# **Example 1:**\n",
    "\n",
    "# **Input:** s = \"Let's take LeetCode contest\"\n",
    "\n",
    "# **Output:** \"s'teL ekat edoCteeL tsetnoc\"\n",
    "\n",
    "# </aside>\n",
    "\n",
    "def reverseWords(s):\n",
    "    words = s.split()\n",
    "    reversed_words = [word[::-1] for word in words]\n",
    "    return ' '.join(reversed_words)\n",
    "\n",
    "# Example usage:\n",
    "s = \"Let's take LeetCode contest\"\n",
    "print(reverseWords(s))  # Output: \"s'teL ekat edoCteeL tsetnoc\"\n"
   ]
  },
  {
   "cell_type": "code",
   "execution_count": 5,
   "id": "a2584d06",
   "metadata": {},
   "outputs": [
    {
     "name": "stdout",
     "output_type": "stream",
     "text": [
      "bacdfeg\n"
     ]
    }
   ],
   "source": [
    "# <aside>\n",
    "# 💡 **Question 5**\n",
    "\n",
    "# Given a string s and an integer k, reverse the first k characters for every 2k characters counting from the start of the string.\n",
    "\n",
    "# If there are fewer than k characters left, reverse all of them. If there are less than 2k but greater than or equal to k characters, then reverse the first k characters and leave the other as original.\n",
    "\n",
    "# **Example 1:**\n",
    "\n",
    "# **Input:** s = \"abcdefg\", k = 2\n",
    "\n",
    "# **Output:**\n",
    "\n",
    "# \"bacdfeg\"\n",
    "\n",
    "# </aside>\n",
    "\n",
    "\n",
    "def reverseStr(s, k):\n",
    "    result = []\n",
    "    for i in range(0, len(s), 2*k):\n",
    "        chunk = s[i:i+k]\n",
    "        reversed_chunk = chunk[::-1]\n",
    "        result.append(reversed_chunk + s[i+k:i+2*k])\n",
    "    return ''.join(result)\n",
    "\n",
    "# Example usage:\n",
    "s = \"abcdefg\"\n",
    "k = 2\n",
    "print(reverseStr(s, k))  # Output: \"bacdfeg\"\n"
   ]
  },
  {
   "cell_type": "code",
   "execution_count": 6,
   "id": "914d1953",
   "metadata": {},
   "outputs": [
    {
     "name": "stdout",
     "output_type": "stream",
     "text": [
      "True\n"
     ]
    }
   ],
   "source": [
    "# <aside>\n",
    "# 💡 **Question 6**\n",
    "\n",
    "# Given two strings s and goal, return true *if and only if* s *can become* goal *after some number of **shifts** on* s.\n",
    "\n",
    "# A **shift** on s consists of moving the leftmost character of s to the rightmost position.\n",
    "\n",
    "# - For example, if s = \"abcde\", then it will be \"bcdea\" after one shift.\n",
    "\n",
    "# **Example 1:**\n",
    "\n",
    "# **Input:** s = \"abcde\", goal = \"cdeab\"\n",
    "\n",
    "# **Output:**\n",
    "\n",
    "# true\n",
    "\n",
    "# </aside>\n",
    "\n",
    "def rotateString(s, goal):\n",
    "    if len(s) != len(goal):\n",
    "        return False\n",
    "\n",
    "    s_double = s + s\n",
    "    if goal in s_double:\n",
    "        return True\n",
    "    else:\n",
    "        return False\n",
    "\n",
    "# Example usage:\n",
    "s = \"abcde\"\n",
    "goal = \"cdeab\"\n",
    "print(rotateString(s, goal))  # Output: True\n"
   ]
  },
  {
   "cell_type": "code",
   "execution_count": 7,
   "id": "1d282376",
   "metadata": {},
   "outputs": [
    {
     "name": "stdout",
     "output_type": "stream",
     "text": [
      "True\n"
     ]
    }
   ],
   "source": [
    "# <aside>\n",
    "# 💡 **Question 7**\n",
    "\n",
    "# Given two strings s and t, return true *if they are equal when both are typed into empty text editors*. '#' means a backspace character.\n",
    "\n",
    "# Note that after backspacing an empty text, the text will continue empty.\n",
    "\n",
    "# **Example 1:**\n",
    "\n",
    "# **Input:** s = \"ab#c\", t = \"ad#c\"\n",
    "\n",
    "# **Output:** true\n",
    "\n",
    "# **Explanation:**\n",
    "\n",
    "# Both s and t become \"ac\".\n",
    "\n",
    "# </aside>\n",
    "\n",
    "def processString(s):\n",
    "    stack = []\n",
    "    for c in s:\n",
    "        if c != '#':\n",
    "            stack.append(c)\n",
    "        elif stack:\n",
    "            stack.pop()\n",
    "    return ''.join(stack)\n",
    "\n",
    "def backspaceCompare(s, t):\n",
    "    return processString(s) == processString(t)\n",
    "\n",
    "# Example usage:\n",
    "s = \"ab#c\"\n",
    "t = \"ad#c\"\n",
    "print(backspaceCompare(s, t))  # Output: True\n"
   ]
  },
  {
   "cell_type": "code",
   "execution_count": 8,
   "id": "c7ecb22d",
   "metadata": {},
   "outputs": [
    {
     "name": "stdout",
     "output_type": "stream",
     "text": [
      "True\n"
     ]
    }
   ],
   "source": [
    "# <aside>\n",
    "# 💡 **Question 8**\n",
    "\n",
    "# You are given an array coordinates, coordinates[i] = [x, y], where [x, y] represents the coordinate of a point. Check if these points make a straight line in the XY plane.\n",
    "\n",
    "# </aside>\n",
    "\n",
    "def checkStraightLine(coordinates):\n",
    "    x1, y1 = coordinates[0]\n",
    "    x2, y2 = coordinates[1]\n",
    "    if x2 - x1 == 0:\n",
    "        slope = float('inf')\n",
    "    else:\n",
    "        slope = (y2 - y1) / (x2 - x1)\n",
    "    \n",
    "    for i in range(2, len(coordinates)):\n",
    "        x, y = coordinates[i]\n",
    "        if x - x1 == 0:\n",
    "            current_slope = float('inf')\n",
    "        else:\n",
    "            current_slope = (y - y1) / (x - x1)\n",
    "        if current_slope != slope:\n",
    "            return False\n",
    "    \n",
    "    return True\n",
    "\n",
    "# Example usage:\n",
    "coordinates = [[1,2],[2,3],[3,4],[4,5],[5,6],[6,7]]\n",
    "print(checkStraightLine(coordinates))  # Output: True\n"
   ]
  },
  {
   "cell_type": "code",
   "execution_count": null,
   "id": "6d8b4761",
   "metadata": {},
   "outputs": [],
   "source": []
  }
 ],
 "metadata": {
  "kernelspec": {
   "display_name": "Python 3 (ipykernel)",
   "language": "python",
   "name": "python3"
  },
  "language_info": {
   "codemirror_mode": {
    "name": "ipython",
    "version": 3
   },
   "file_extension": ".py",
   "mimetype": "text/x-python",
   "name": "python",
   "nbconvert_exporter": "python",
   "pygments_lexer": "ipython3",
   "version": "3.9.13"
  }
 },
 "nbformat": 4,
 "nbformat_minor": 5
}
