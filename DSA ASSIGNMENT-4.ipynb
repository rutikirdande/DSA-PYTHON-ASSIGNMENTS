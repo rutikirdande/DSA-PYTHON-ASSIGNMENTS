{
 "cells": [
  {
   "cell_type": "code",
   "execution_count": 1,
   "id": "8ce2a082",
   "metadata": {},
   "outputs": [
    {
     "name": "stdout",
     "output_type": "stream",
     "text": [
      "[1, 5]\n"
     ]
    }
   ],
   "source": [
    "# <aside>\n",
    "# 💡 **Question 1**\n",
    "# Given three integer arrays arr1, arr2 and arr3 **sorted** in **strictly increasing** order, return a sorted array of **only** the integers that appeared in **all** three arrays.\n",
    "\n",
    "# **Example 1:**\n",
    "\n",
    "# Input: arr1 = [1,2,3,4,5], arr2 = [1,2,5,7,9], arr3 = [1,3,4,5,8]\n",
    "\n",
    "# Output: [1,5]\n",
    "\n",
    "# **Explanation:** Only 1 and 5 appeared in the three arrays.\n",
    "\n",
    "# </aside>\n",
    "\n",
    "def arraysIntersection(arr1, arr2, arr3):\n",
    "    result = []\n",
    "    p1, p2, p3 = 0, 0, 0\n",
    "    n1, n2, n3 = len(arr1), len(arr2), len(arr3)\n",
    "\n",
    "    while p1 < n1 and p2 < n2 and p3 < n3:\n",
    "        if arr1[p1] == arr2[p2] == arr3[p3]:\n",
    "            result.append(arr1[p1])\n",
    "            p1 += 1\n",
    "            p2 += 1\n",
    "            p3 += 1\n",
    "        elif arr1[p1] < arr2[p2]:\n",
    "            p1 += 1\n",
    "        elif arr2[p2] < arr3[p3]:\n",
    "            p2 += 1\n",
    "        else:\n",
    "            p3 += 1\n",
    "\n",
    "    return result\n",
    "\n",
    "# Example usage\n",
    "arr1 = [1, 2, 3, 4, 5]\n",
    "arr2 = [1, 2, 5, 7, 9]\n",
    "arr3 = [1, 3, 4, 5, 8]\n",
    "result = arraysIntersection(arr1, arr2, arr3)\n",
    "print(result)\n"
   ]
  },
  {
   "cell_type": "code",
   "execution_count": 2,
   "id": "f4927a25",
   "metadata": {},
   "outputs": [
    {
     "name": "stdout",
     "output_type": "stream",
     "text": [
      "[[1, 3], [4, 6]]\n"
     ]
    }
   ],
   "source": [
    "# <aside>\n",
    "# 💡 **Question 2**\n",
    "\n",
    "# Given two **0-indexed** integer arrays nums1 and nums2, return *a list* answer *of size* 2 *where:*\n",
    "\n",
    "# - answer[0] *is a list of all **distinct** integers in* nums1 *which are **not** present in* nums2*.*\n",
    "# - answer[1] *is a list of all **distinct** integers in* nums2 *which are **not** present in* nums1.\n",
    "\n",
    "# **Note** that the integers in the lists may be returned in **any** order.\n",
    "\n",
    "# **Example 1:**\n",
    "\n",
    "# **Input:** nums1 = [1,2,3], nums2 = [2,4,6]\n",
    "\n",
    "# **Output:** [[1,3],[4,6]]\n",
    "\n",
    "# **Explanation:**\n",
    "\n",
    "# For nums1, nums1[1] = 2 is present at index 0 of nums2, whereas nums1[0] = 1 and nums1[2] = 3 are not present in nums2. Therefore, answer[0] = [1,3].\n",
    "\n",
    "# For nums2, nums2[0] = 2 is present at index 1 of nums1, whereas nums2[1] = 4 and nums2[2] = 6 are not present in nums2. Therefore, answer[1] = [4,6].\n",
    "\n",
    "# </aside>\n",
    "\n",
    "\n",
    "def findDisappearedNumbers(nums1, nums2):\n",
    "    set1 = set(nums1)\n",
    "    set2 = set(nums2)\n",
    "\n",
    "    distinct_nums1 = list(set1 - set2)\n",
    "    distinct_nums2 = list(set2 - set1)\n",
    "\n",
    "    return [distinct_nums1, distinct_nums2]\n",
    "\n",
    "# Example usage\n",
    "nums1 = [1, 2, 3]\n",
    "nums2 = [2, 4, 6]\n",
    "result = findDisappearedNumbers(nums1, nums2)\n",
    "print(result)\n"
   ]
  },
  {
   "cell_type": "code",
   "execution_count": 3,
   "id": "efdfe4fe",
   "metadata": {},
   "outputs": [
    {
     "name": "stdout",
     "output_type": "stream",
     "text": [
      "4\n"
     ]
    }
   ],
   "source": [
    "# <aside>\n",
    "# 💡 **Question 4**\n",
    "# Given an integer array nums of 2n integers, group these integers into n pairs (a1, b1), (a2, b2), ..., (an, bn) such that the sum of min(ai, bi) for all i is **maximized**. Return *the maximized sum*.\n",
    "\n",
    "# **Example 1:**\n",
    "\n",
    "# Input: nums = [1,4,3,2]\n",
    "\n",
    "# Output: 4\n",
    "\n",
    "# **Explanation:** All possible pairings (ignoring the ordering of elements) are:\n",
    "\n",
    "# 1. (1, 4), (2, 3) -> min(1, 4) + min(2, 3) = 1 + 2 = 3\n",
    "\n",
    "# 2. (1, 3), (2, 4) -> min(1, 3) + min(2, 4) = 1 + 2 = 3\n",
    "\n",
    "# 3. (1, 2), (3, 4) -> min(1, 2) + min(3, 4) = 1 + 3 = 4\n",
    "\n",
    "# So the maximum possible sum is 4.\n",
    "\n",
    "# </aside>\n",
    "\n",
    "def arrayPairSum(nums):\n",
    "    nums.sort()\n",
    "    pair_sum = 0\n",
    "\n",
    "    for i in range(0, len(nums), 2):\n",
    "        pair_sum += nums[i]\n",
    "\n",
    "    return pair_sum\n",
    "\n",
    "# Example usage\n",
    "nums = [1, 4, 3, 2]\n",
    "result = arrayPairSum(nums)\n",
    "print(result)\n"
   ]
  },
  {
   "cell_type": "code",
   "execution_count": 4,
   "id": "c3f8bea1",
   "metadata": {},
   "outputs": [
    {
     "name": "stdout",
     "output_type": "stream",
     "text": [
      "[0, 1, 9, 16, 100]\n"
     ]
    }
   ],
   "source": [
    "# <aside>\n",
    "# 💡 **Question 6**\n",
    "# Given an integer array nums sorted in **non-decreasing** order, return *an array of **the squares of each number** sorted in non-decreasing order*.\n",
    "\n",
    "# **Example 1:**\n",
    "\n",
    "# Input: nums = [-4,-1,0,3,10]\n",
    "\n",
    "# Output: [0,1,9,16,100]\n",
    "\n",
    "# **Explanation:** After squaring, the array becomes [16,1,0,9,100].\n",
    "# After sorting, it becomes [0,1,9,16,100]\n",
    "\n",
    "# </aside>\n",
    "\n",
    "def sortedSquares(nums):\n",
    "    squared_nums = [num**2 for num in nums]\n",
    "    squared_nums.sort()\n",
    "    return squared_nums\n",
    "\n",
    "# Example usage\n",
    "nums = [-4, -1, 0, 3, 10]\n",
    "result = sortedSquares(nums)\n",
    "print(result)\n"
   ]
  },
  {
   "cell_type": "code",
   "execution_count": 5,
   "id": "a91d8db2",
   "metadata": {},
   "outputs": [
    {
     "name": "stdout",
     "output_type": "stream",
     "text": [
      "[2, 3, 5, 4, 1, 7]\n"
     ]
    }
   ],
   "source": [
    "# <aside>\n",
    "# 💡 **Question 8**\n",
    "\n",
    "# Given the array nums consisting of 2n elements in the form [x1,x2,...,xn,y1,y2,...,yn].\n",
    "\n",
    "# *Return the array in the form* [x1,y1,x2,y2,...,xn,yn].\n",
    "\n",
    "# **Example 1:**\n",
    "\n",
    "# **Input:** nums = [2,5,1,3,4,7], n = 3\n",
    "\n",
    "# **Output:** [2,3,5,4,1,7]\n",
    "\n",
    "# **Explanation:** Since x1=2, x2=5, x3=1, y1=3, y2=4, y3=7 then the answer is [2,3,5,4,1,7].\n",
    "\n",
    "# </aside>\n",
    "\n",
    "def shuffle(nums, n):\n",
    "    shuffled_nums = []\n",
    "\n",
    "    for i in range(n):\n",
    "        shuffled_nums.append(nums[i])\n",
    "        shuffled_nums.append(nums[i + n])\n",
    "\n",
    "    return shuffled_nums\n",
    "\n",
    "# Example usage\n",
    "nums = [2, 5, 1, 3, 4, 7]\n",
    "n = 3\n",
    "result = shuffle(nums, n)\n",
    "print(result)\n",
    "\n"
   ]
  },
  {
   "cell_type": "code",
   "execution_count": null,
   "id": "a5d1651c",
   "metadata": {},
   "outputs": [],
   "source": []
  }
 ],
 "metadata": {
  "kernelspec": {
   "display_name": "Python 3 (ipykernel)",
   "language": "python",
   "name": "python3"
  },
  "language_info": {
   "codemirror_mode": {
    "name": "ipython",
    "version": 3
   },
   "file_extension": ".py",
   "mimetype": "text/x-python",
   "name": "python",
   "nbconvert_exporter": "python",
   "pygments_lexer": "ipython3",
   "version": "3.9.13"
  }
 },
 "nbformat": 4,
 "nbformat_minor": 5
}
