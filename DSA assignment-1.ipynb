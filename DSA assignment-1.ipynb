{
 "cells": [
  {
   "cell_type": "code",
   "execution_count": 13,
   "id": "317229cb",
   "metadata": {},
   "outputs": [
    {
     "name": "stdout",
     "output_type": "stream",
     "text": [
      "[0, 1]\n"
     ]
    }
   ],
   "source": [
    "# <aside>\n",
    "# 💡 **Q1.** Given an array of integers nums and an integer target, return indices of the two numbers such that they add up to target.\n",
    "\n",
    "# You may assume that each input would have exactly one solution, and you may not use the same element twice.\n",
    "\n",
    "# You can return the answer in any order.\n",
    "\n",
    "# **Example:**\n",
    "# Input: nums = [2,7,11,15], target = 9\n",
    "# Output0 [0,1]\n",
    "\n",
    "# **Explanation:** Because nums[0] + nums[1] == 9, we return [0, 1][\n",
    "\n",
    "# </aside>\n",
    "\n",
    "def twoSum(nums, target):\n",
    "    # Create a dictionary to store the complement of each number and its index\n",
    "    complements = {}\n",
    "\n",
    "    # Iterate through the array\n",
    "    for i in range(len(nums)):\n",
    "        num = nums[i]\n",
    "        complement = target - num\n",
    "\n",
    "        # Check if the complement exists in the dictionary\n",
    "        if complement in complements:\n",
    "            # Return the indices of the two numbers\n",
    "            return [complements[complement], i]\n",
    "\n",
    "        \n",
    "        complements[num] = i\n",
    "\n",
    "    \n",
    "    return []\n",
    "\n",
    "\n",
    "nums = [2, 7, 11, 15]\n",
    "target = 9\n",
    "result = twoSum(nums, target)\n",
    "print(result)\n"
   ]
  },
  {
   "cell_type": "code",
   "execution_count": 14,
   "id": "58aab264",
   "metadata": {},
   "outputs": [
    {
     "name": "stdout",
     "output_type": "stream",
     "text": [
      "k = 2\n",
      "nums = [2, 2], _*_, _*_\n"
     ]
    }
   ],
   "source": [
    "# <aside>\n",
    "# 💡 **Q2.** Given an integer array nums and an integer val, remove all occurrences of val in nums in-place. The order of the elements may be changed. Then return the number of elements in nums which are not equal to val.\n",
    "\n",
    "# Consider the number of elements in nums which are not equal to val be k, to get accepted, you need to do the following things:\n",
    "\n",
    "# - Change the array nums such that the first k elements of nums contain the elements which are not equal to val. The remaining elements of nums are not important as well as the size of nums.\n",
    "# - Return k.\n",
    "\n",
    "# **Example :**\n",
    "# Input: nums = [3,2,2,3], val = 3\n",
    "# Output: 2, nums = [2,2,_*,_*]\n",
    "\n",
    "# **Explanation:** Your function should return k = 2, with the first two elements of nums being 2. It does not matter what you leave beyond the returned k (hence they are underscores)[\n",
    "\n",
    "# </aside>\n",
    "\n",
    "def removeElement(nums, val):\n",
    "    # Initialize two pointers\n",
    "    left = 0\n",
    "    right = len(nums) - 1\n",
    "\n",
    "    while left <= right:\n",
    "        # Move the right pointer until a value different from val is found\n",
    "        while left <= right and nums[right] == val:\n",
    "            right -= 1\n",
    "\n",
    "        # Check if left pointer is still valid\n",
    "        if left <= right:\n",
    "            # Check if the value at the left pointer is equal to val\n",
    "            if nums[left] == val:\n",
    "                # Swap the value at the left pointer with the value at the right pointer\n",
    "                nums[left], nums[right] = nums[right], nums[left]\n",
    "                right -= 1\n",
    "            # Move the left pointer\n",
    "            left += 1\n",
    "\n",
    "    # Return the number of elements in nums that are not equal to val\n",
    "    return left\n",
    "\n",
    "# Example usage\n",
    "nums = [3, 2, 2, 3]\n",
    "val = 3\n",
    "k = removeElement(nums, val)\n",
    "print(\"k =\", k)\n",
    "print(\"nums =\", nums[:k], end=\"\")\n",
    "print(\", _*_\" * (len(nums) - k))\n"
   ]
  },
  {
   "cell_type": "code",
   "execution_count": 15,
   "id": "a771a265",
   "metadata": {},
   "outputs": [
    {
     "name": "stdout",
     "output_type": "stream",
     "text": [
      "2\n"
     ]
    }
   ],
   "source": [
    "# <aside>\n",
    "# 💡 **Q3.** Given a sorted array of distinct integers and a target value, return the index if the target is found. If not, return the index where it would be if it were inserted in order.\n",
    "\n",
    "# You must write an algorithm with O(log n) runtime complexity.\n",
    "\n",
    "# **Example 1:**\n",
    "# Input: nums = [1,3,5,6], target = 5\n",
    "\n",
    "# Output: 2\n",
    "\n",
    "# </aside>\n",
    "\n",
    "def searchInsert(nums, target):\n",
    "    left = 0\n",
    "    right = len(nums) - 1\n",
    "\n",
    "    while left <= right:\n",
    "        mid = (left + right) // 2\n",
    "\n",
    "        if nums[mid] == target:\n",
    "            return mid\n",
    "        elif nums[mid] < target:\n",
    "            left = mid + 1\n",
    "        else:\n",
    "            right = mid - 1\n",
    "\n",
    "    return left\n",
    "\n",
    "# Example usage\n",
    "nums = [1, 3, 5, 6]\n",
    "target = 5\n",
    "index = searchInsert(nums, target)\n",
    "print(index)\n"
   ]
  },
  {
   "cell_type": "code",
   "execution_count": 16,
   "id": "4725004b",
   "metadata": {},
   "outputs": [
    {
     "name": "stdout",
     "output_type": "stream",
     "text": [
      "[1, 2, 4]\n"
     ]
    }
   ],
   "source": [
    "# <aside>\n",
    "# 💡 **Q4.** You are given a large integer represented as an integer array digits, where each digits[i] is the ith digit of the integer. The digits are ordered from most significant to least significant in left-to-right order. The large integer does not contain any leading 0's.\n",
    "\n",
    "# Increment the large integer by one and return the resulting array of digits.\n",
    "\n",
    "# **Example 1:**\n",
    "# Input: digits = [1,2,3]\n",
    "# Output: [1,2,4]\n",
    "\n",
    "# **Explanation:** The array represents the integer 123.\n",
    "\n",
    "# Incrementing by one gives 123 + 1 = 124.\n",
    "# Thus, the result should be [1,2,4].\n",
    "\n",
    "# </aside>\n",
    "\n",
    "\n",
    "def plusOne(digits):\n",
    "    # Start from the rightmost digit\n",
    "    for i in range(len(digits) - 1, -1, -1):\n",
    "        # Increment the current digit\n",
    "        digits[i] += 1\n",
    "\n",
    "        # Check if there is a carry\n",
    "        if digits[i] < 10:\n",
    "            # No carry, return the digits as is\n",
    "            return digits\n",
    "        else:\n",
    "            # Carry, set the current digit to 0 and continue to the next digit\n",
    "            digits[i] = 0\n",
    "\n",
    "    # If all digits have carried, insert a new 1 at the beginning\n",
    "    digits.insert(0, 1)\n",
    "    return digits\n",
    "\n",
    "# Example usage\n",
    "digits = [1, 2, 3]\n",
    "result = plusOne(digits)\n",
    "print(result)\n",
    "\n"
   ]
  },
  {
   "cell_type": "code",
   "execution_count": 17,
   "id": "adfd56f5",
   "metadata": {},
   "outputs": [
    {
     "name": "stdout",
     "output_type": "stream",
     "text": [
      "[1, 2, 2, 3, 5, 6]\n"
     ]
    }
   ],
   "source": [
    "# <aside>\n",
    "# 💡 **Q5.** You are given two integer arrays nums1 and nums2, sorted in non-decreasing order, and two integers m and n, representing the number of elements in nums1 and nums2 respectively.\n",
    "\n",
    "# Merge nums1 and nums2 into a single array sorted in non-decreasing order.\n",
    "\n",
    "# The final sorted array should not be returned by the function, but instead be stored inside the array nums1. To accommodate this, nums1 has a length of m + n, where the first m elements denote the elements that should be merged, and the last n elements are set to 0 and should be ignored. nums2 has a length of n.\n",
    "\n",
    "# **Example 1:**\n",
    "# Input: nums1 = [1,2,3,0,0,0], m = 3, nums2 = [2,5,6], n = 3\n",
    "# Output: [1,2,2,3,5,6]\n",
    "\n",
    "# **Explanation:** The arrays we are merging are [1,2,3] and [2,5,6].\n",
    "# The result of the merge is [1,2,2,3,5,6] with the underlined elements coming from nums1.\n",
    "\n",
    "# </aside>\n",
    "\n",
    "\n",
    "def merge(nums1, m, nums2, n):\n",
    "    # Initialize pointers for nums1, nums2, and the merged array\n",
    "    p1 = m - 1\n",
    "    p2 = n - 1\n",
    "    p = m + n - 1\n",
    "\n",
    "    # Merge the arrays from the end\n",
    "    while p1 >= 0 and p2 >= 0:\n",
    "        if nums1[p1] <= nums2[p2]:\n",
    "            nums1[p] = nums2[p2]\n",
    "            p2 -= 1\n",
    "        else:\n",
    "            nums1[p] = nums1[p1]\n",
    "            p1 -= 1\n",
    "        p -= 1\n",
    "\n",
    "    # Copy any remaining elements from nums2 to nums1\n",
    "    nums1[:p2 + 1] = nums2[:p2 + 1]\n",
    "\n",
    "# Example usage\n",
    "nums1 = [1, 2, 3, 0, 0, 0]\n",
    "m = 3\n",
    "nums2 = [2, 5, 6]\n",
    "n = 3\n",
    "merge(nums1, m, nums2, n)\n",
    "print(nums1)\n"
   ]
  },
  {
   "cell_type": "code",
   "execution_count": 18,
   "id": "b934d9bd",
   "metadata": {},
   "outputs": [
    {
     "name": "stdout",
     "output_type": "stream",
     "text": [
      "True\n"
     ]
    }
   ],
   "source": [
    "# <aside>\n",
    "# 💡 **Q6.** Given an integer array nums, return true if any value appears at least twice in the array, and return false if every element is distinct.\n",
    "\n",
    "# **Example 1:**\n",
    "# Input: nums = [1,2,3,1]\n",
    "\n",
    "# Output: true\n",
    "\n",
    "# </aside>\n",
    "\n",
    "def containsDuplicate(nums):\n",
    "    num_set = set()\n",
    "    for num in nums:\n",
    "        if num in num_set:\n",
    "            return True\n",
    "        num_set.add(num)\n",
    "    return False\n",
    "\n",
    "# Example usage\n",
    "nums = [1, 2, 3, 1]\n",
    "result = containsDuplicate(nums)\n",
    "print(result)\n"
   ]
  },
  {
   "cell_type": "code",
   "execution_count": 19,
   "id": "6272a85c",
   "metadata": {},
   "outputs": [
    {
     "name": "stdout",
     "output_type": "stream",
     "text": [
      "[1, 3, 12, 0, 0]\n"
     ]
    }
   ],
   "source": [
    "# <aside>\n",
    "# 💡 **Q7.** Given an integer array nums, move all 0's to the end of it while maintaining the relative order of the nonzero elements.\n",
    "\n",
    "# Note that you must do this in-place without making a copy of the array.\n",
    "\n",
    "# **Example 1:**\n",
    "# Input: nums = [0,1,0,3,12]\n",
    "# Output: [1,3,12,0,0]\n",
    "\n",
    "# </aside>\n",
    "\n",
    "def moveZeroes(nums):\n",
    "    # Initialize a pointer to track the position to insert the next nonzero element\n",
    "    insert_pos = 0\n",
    "\n",
    "    # Traverse the array with a pointer\n",
    "    for i in range(len(nums)):\n",
    "        # If the current element is nonzero\n",
    "        if nums[i] != 0:\n",
    "            # Move the nonzero element to the insert position\n",
    "            nums[insert_pos] = nums[i]\n",
    "            # Increment the insert position\n",
    "            insert_pos += 1\n",
    "\n",
    "    # Fill the remaining positions with zeros\n",
    "    while insert_pos < len(nums):\n",
    "        nums[insert_pos] = 0\n",
    "        insert_pos += 1\n",
    "\n",
    "# Example usage\n",
    "nums = [0, 1, 0, 3, 12]\n",
    "moveZeroes(nums)\n",
    "print(nums)\n"
   ]
  },
  {
   "cell_type": "code",
   "execution_count": 20,
   "id": "25c8e73d",
   "metadata": {},
   "outputs": [
    {
     "name": "stdout",
     "output_type": "stream",
     "text": [
      "[2, 3]\n"
     ]
    }
   ],
   "source": [
    "# <aside>\n",
    "# 💡 **Q8.** You have a set of integers s, which originally contains all the numbers from 1 to n. Unfortunately, due to some error, one of the numbers in s got duplicated to another number in the set, which results in repetition of one number and loss of another number.\n",
    "\n",
    "# You are given an integer array nums representing the data status of this set after the error.\n",
    "\n",
    "# Find the number that occurs twice and the number that is missing and return them in the form of an array.\n",
    "\n",
    "# **Example 1:**\n",
    "# Input: nums = [1,2,2,4]\n",
    "# Output: [2,3]\n",
    "\n",
    "# </aside>\n",
    "\n",
    "def findErrorNums(nums):\n",
    "    n = len(nums)\n",
    "    num_set = set()\n",
    "    duplicate = -1\n",
    "\n",
    "    # Find the duplicate number\n",
    "    for num in nums:\n",
    "        if num in num_set:\n",
    "            duplicate = num\n",
    "        else:\n",
    "            num_set.add(num)\n",
    "\n",
    "    # Find the missing number\n",
    "    for i in range(1, n+1):\n",
    "        if i not in num_set:\n",
    "            missing = i\n",
    "\n",
    "    return [duplicate, missing]\n",
    "\n",
    "# Example usage\n",
    "nums = [1, 2, 2, 4]\n",
    "result = findErrorNums(nums)\n",
    "print(result)\n"
   ]
  },
  {
   "cell_type": "code",
   "execution_count": null,
   "id": "bc793911",
   "metadata": {},
   "outputs": [],
   "source": []
  },
  {
   "cell_type": "code",
   "execution_count": null,
   "id": "f88ea4a2",
   "metadata": {},
   "outputs": [],
   "source": []
  }
 ],
 "metadata": {
  "kernelspec": {
   "display_name": "Python 3 (ipykernel)",
   "language": "python",
   "name": "python3"
  },
  "language_info": {
   "codemirror_mode": {
    "name": "ipython",
    "version": 3
   },
   "file_extension": ".py",
   "mimetype": "text/x-python",
   "name": "python",
   "nbconvert_exporter": "python",
   "pygments_lexer": "ipython3",
   "version": "3.9.13"
  }
 },
 "nbformat": 4,
 "nbformat_minor": 5
}
