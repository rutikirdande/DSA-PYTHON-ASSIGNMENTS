{
 "cells": [
  {
   "cell_type": "code",
   "execution_count": 1,
   "id": "e96d1dbf",
   "metadata": {},
   "outputs": [
    {
     "name": "stdout",
     "output_type": "stream",
     "text": [
      "[0, 4, 1, 3, 2]\n"
     ]
    }
   ],
   "source": [
    "# <aside>\n",
    "# 💡 **Question 1**\n",
    "\n",
    "# A permutation perm of n + 1 integers of all the integers in the range [0, n] can be represented as a string s of length n where:\n",
    "\n",
    "# - s[i] == 'I' if perm[i] < perm[i + 1], and\n",
    "# - s[i] == 'D' if perm[i] > perm[i + 1].\n",
    "\n",
    "# Given a string s, reconstruct the permutation perm and return it. If there are multiple valid permutations perm, return **any of them**.\n",
    "\n",
    "# **Example 1:**\n",
    "\n",
    "# **Input:** s = \"IDID\"\n",
    "\n",
    "# **Output:**\n",
    "\n",
    "# [0,4,1,3,2]\n",
    "\n",
    "# </aside>\n",
    "\n",
    "def reconstructPermutation(s):\n",
    "    perm = []\n",
    "    low, high = 0, len(s)\n",
    "    \n",
    "    for ch in s:\n",
    "        if ch == 'I':\n",
    "            perm.append(low)\n",
    "            low += 1\n",
    "        elif ch == 'D':\n",
    "            perm.append(high)\n",
    "            high -= 1\n",
    "    \n",
    "    perm.append(low)\n",
    "    return perm\n",
    "\n",
    "# Example usage\n",
    "s = \"IDID\"\n",
    "perm = reconstructPermutation(s)\n",
    "print(perm)\n"
   ]
  },
  {
   "cell_type": "code",
   "execution_count": 2,
   "id": "16ef35ea",
   "metadata": {},
   "outputs": [
    {
     "name": "stdout",
     "output_type": "stream",
     "text": [
      "2\n"
     ]
    }
   ],
   "source": [
    "# <aside>\n",
    "# 💡 **Question 4**\n",
    "\n",
    "# Given a binary array nums, return *the maximum length of a contiguous subarray with an equal number of* 0 *and* 1.\n",
    "\n",
    "# **Example 1:**\n",
    "\n",
    "# **Input:** nums = [0,1]\n",
    "\n",
    "# **Output:** 2\n",
    "\n",
    "# **Explanation:**\n",
    "\n",
    "# [0, 1] is the longest contiguous subarray with an equal number of 0 and 1.\n",
    "\n",
    "# </aside>\n",
    "\n",
    "def findMaxLength(nums):\n",
    "    max_length = 0\n",
    "    count = 0\n",
    "    count_map = {0: -1}\n",
    "\n",
    "    for i, num in enumerate(nums):\n",
    "        if num == 0:\n",
    "            count -= 1\n",
    "        else:\n",
    "            count += 1\n",
    "\n",
    "        if count in count_map:\n",
    "            max_length = max(max_length, i - count_map[count])\n",
    "        else:\n",
    "            count_map[count] = i\n",
    "\n",
    "    return max_length\n",
    "\n",
    "# Example usage\n",
    "nums = [0, 1]\n",
    "max_length = findMaxLength(nums)\n",
    "print(max_length)\n"
   ]
  },
  {
   "cell_type": "code",
   "execution_count": 3,
   "id": "0f8c087e",
   "metadata": {},
   "outputs": [
    {
     "name": "stdout",
     "output_type": "stream",
     "text": [
      "40\n"
     ]
    }
   ],
   "source": [
    "# <aside>\n",
    "# 💡 **Question 5**\n",
    "\n",
    "# The **product sum** of two equal-length arrays a and b is equal to the sum of a[i] * b[i] for all 0 <= i < a.length (**0-indexed**).\n",
    "\n",
    "# - For example, if a = [1,2,3,4] and b = [5,2,3,1], the **product sum** would be 1*5 + 2*2 + 3*3 + 4*1 = 22.\n",
    "\n",
    "# Given two arrays nums1 and nums2 of length n, return *the **minimum product sum** if you are allowed to **rearrange** the **order** of the elements in* nums1.\n",
    "\n",
    "# **Example 1:**\n",
    "\n",
    "# **Input:** nums1 = [5,3,4,2], nums2 = [4,2,2,5]\n",
    "\n",
    "# **Output:** 40\n",
    "\n",
    "# **Explanation:**\n",
    "\n",
    "# We can rearrange nums1 to become [3,5,4,2]. The product sum of [3,5,4,2] and [4,2,2,5] is 3*4 + 5*2 + 4*2 + 2*5 = 40.\n",
    "\n",
    "# </aside>\n",
    "\n",
    "def minProductSum(nums1, nums2):\n",
    "    nums1.sort()\n",
    "    nums2.sort()\n",
    "    min_product_sum = 0\n",
    "    n = len(nums1)\n",
    "\n",
    "    for i in range(n):\n",
    "        min_product_sum += nums1[i] * nums2[n-1-i]\n",
    "\n",
    "    return min_product_sum\n",
    "\n",
    "# Example usage\n",
    "nums1 = [5, 3, 4, 2]\n",
    "nums2 = [4, 2, 2, 5]\n",
    "result = minProductSum(nums1, nums2)\n",
    "print(result)\n"
   ]
  },
  {
   "cell_type": "code",
   "execution_count": 4,
   "id": "6fb9f9cf",
   "metadata": {},
   "outputs": [],
   "source": [
    "# <aside>\n",
    "# 💡 **Question 6**\n",
    "\n",
    "# An integer array original is transformed into a **doubled** array changed by appending **twice the value** of every element in original, and then randomly **shuffling** the resulting array.\n",
    "\n",
    "# Given an array changed, return original *if* changed *is a **doubled** array. If* changed *is not a **doubled** array, return an empty array. The elements in* original *may be returned in **any** order*.\n",
    "\n",
    "# **Example 1:**\n",
    "\n",
    "# **Input:** changed = [1,3,4,2,6,8]\n",
    "\n",
    "# **Output:** [1,3,4]\n",
    "\n",
    "# **Explanation:** One possible original array could be [1,3,4]:\n",
    "\n",
    "# - Twice the value of 1 is 1 * 2 = 2.\n",
    "# - Twice the value of 3 is 3 * 2 = 6.\n",
    "# - Twice the value of 4 is 4 * 2 = 8.\n",
    "\n",
    "# Other original arrays could be [4,3,1] or [3,1,4].\n",
    "\n",
    "# </aside>\n",
    "\n",
    "def findOriginalArray(changed):\n",
    "    count = {}\n",
    "    for num in changed:\n",
    "        if num not in count:\n",
    "            count[num] = 0\n",
    "        count[num] += 1\n",
    "    \n",
    "    original = []\n",
    "    for num in changed:\n",
    "        half = num / 2\n",
    "        if half in count and count[half] > 0:\n",
    "            count[half] -= 1\n",
    "            original.append(int(half))\n",
    "        else:\n",
    "            return []\n",
    "\n",
    "    return original\n"
   ]
  },
  {
   "cell_type": "code",
   "execution_count": null,
   "id": "065e5bb5",
   "metadata": {},
   "outputs": [],
   "source": []
  }
 ],
 "metadata": {
  "kernelspec": {
   "display_name": "Python 3 (ipykernel)",
   "language": "python",
   "name": "python3"
  },
  "language_info": {
   "codemirror_mode": {
    "name": "ipython",
    "version": 3
   },
   "file_extension": ".py",
   "mimetype": "text/x-python",
   "name": "python",
   "nbconvert_exporter": "python",
   "pygments_lexer": "ipython3",
   "version": "3.9.13"
  }
 },
 "nbformat": 4,
 "nbformat_minor": 5
}
