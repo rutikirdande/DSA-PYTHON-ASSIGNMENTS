{
 "cells": [
  {
   "cell_type": "code",
   "execution_count": 2,
   "id": "ceea31ac",
   "metadata": {},
   "outputs": [
    {
     "name": "stdout",
     "output_type": "stream",
     "text": [
      "True\n"
     ]
    }
   ],
   "source": [
    "# <aside>\n",
    "# 💡 **Question 1**\n",
    "\n",
    "# Given an integer `n`, return *`true` if it is a power of two. Otherwise, return `false`*.\n",
    "\n",
    "# An integer `n` is a power of two, if there exists an integer `x` such that `n == 2x`.\n",
    "\n",
    "# **Example 1:**\n",
    "# Input: n = 1 \n",
    "\n",
    "# Output: true\n",
    "\n",
    "# **Example 2:**\n",
    "# Input: n = 16 \n",
    "\n",
    "# Output: true\n",
    "\n",
    "# **Example 3:**\n",
    "# Input: n = 3 \n",
    "\n",
    "# Output: false\n",
    "\n",
    "# </aside>\n",
    "\n",
    "def isPowerOfTwo(n):\n",
    "    if n <= 0:\n",
    "        return False\n",
    "\n",
    "    return (n & (n - 1)) == 0\n",
    "\n",
    "\n",
    "# Example usage:\n",
    "n = 16\n",
    "result = isPowerOfTwo(n)\n",
    "print(result)\n"
   ]
  },
  {
   "cell_type": "code",
   "execution_count": 3,
   "id": "b3a693a0",
   "metadata": {},
   "outputs": [
    {
     "name": "stdout",
     "output_type": "stream",
     "text": [
      "15\n"
     ]
    }
   ],
   "source": [
    "# <aside>\n",
    "# 💡 **Question 2**\n",
    "\n",
    "# Given a number n, find the sum of the first natural numbers.\n",
    "\n",
    "# **Example 1:**\n",
    "\n",
    "# Input: n = 3 \n",
    "\n",
    "# Output: 6\n",
    "\n",
    "# **Example 2:**\n",
    "\n",
    "# Input  : 5 \n",
    "\n",
    "# Output : 15\n",
    "\n",
    "# </aside>\n",
    "\n",
    "def sumOfNaturalNumbers(n):\n",
    "    return (n * (n + 1)) // 2\n",
    "\n",
    "\n",
    "# Example usage:\n",
    "n = 5\n",
    "result = sumOfNaturalNumbers(n)\n",
    "print(result)\n"
   ]
  },
  {
   "cell_type": "code",
   "execution_count": 4,
   "id": "99af44d5",
   "metadata": {},
   "outputs": [
    {
     "name": "stdout",
     "output_type": "stream",
     "text": [
      "120\n"
     ]
    }
   ],
   "source": [
    "# <aside>\n",
    "# 💡 **Question 3**\n",
    "\n",
    "# ****Given a positive integer, N. Find the factorial of N. \n",
    "\n",
    "# **Example 1:**\n",
    "\n",
    "# Input: N = 5 \n",
    "\n",
    "# Output: 120\n",
    "\n",
    "# **Example 2:**\n",
    "\n",
    "# Input: N = 4\n",
    "\n",
    "# Output: 24\n",
    "\n",
    "# </aside>\n",
    "def factorial(N):\n",
    "    result = 1\n",
    "    for i in range(1, N + 1):\n",
    "        result *= i\n",
    "    return result\n",
    "\n",
    "\n",
    "# Example usage:\n",
    "N = 5\n",
    "result = factorial(N)\n",
    "print(result)\n",
    "\n"
   ]
  },
  {
   "cell_type": "code",
   "execution_count": 5,
   "id": "0c9e1bf5",
   "metadata": {},
   "outputs": [
    {
     "name": "stdout",
     "output_type": "stream",
     "text": [
      "25\n"
     ]
    }
   ],
   "source": [
    "# <aside>\n",
    "# 💡 **Question 4**\n",
    "\n",
    "# Given a number N and a power P, the task is to find the exponent of this number raised to the given power, i.e. N^P.\n",
    "\n",
    "# **Example 1 :** \n",
    "\n",
    "# Input: N = 5, P = 2\n",
    "\n",
    "# Output: 25\n",
    "\n",
    "# **Example 2 :**\n",
    "# Input: N = 2, P = 5\n",
    "\n",
    "# Output: 32\n",
    "\n",
    "# </aside>\n",
    "def power(N, P):\n",
    "    result = N ** P\n",
    "    return result\n",
    "\n",
    "\n",
    "# Example usage:\n",
    "N = 5\n",
    "P = 2\n",
    "result = power(N, P)\n",
    "print(result)\n",
    "\n"
   ]
  },
  {
   "cell_type": "code",
   "execution_count": 6,
   "id": "80d184bb",
   "metadata": {},
   "outputs": [
    {
     "name": "stdout",
     "output_type": "stream",
     "text": [
      "8\n"
     ]
    }
   ],
   "source": [
    "# <aside>\n",
    "# 💡 **Question 5**\n",
    "\n",
    "# Given an array of integers **arr**, the task is to find maximum element of that array using recursion.\n",
    "\n",
    "# **Example 1:**\n",
    "\n",
    "# Input: arr = {1, 4, 3, -5, -4, 8, 6};\n",
    "# Output: 8\n",
    "\n",
    "# **Example 2:**\n",
    "\n",
    "# Input: arr = {1, 4, 45, 6, 10, -8};\n",
    "# Output: 45\n",
    "\n",
    "# </aside>\n",
    "\n",
    "def find_max(arr, index):\n",
    "    if index == len(arr) - 1:\n",
    "        return arr[index]\n",
    "    \n",
    "    max_rest = find_max(arr, index + 1)\n",
    "    return max(arr[index], max_rest)\n",
    "\n",
    "\n",
    "# Example usage:\n",
    "arr = [1, 4, 3, -5, -4, 8, 6]\n",
    "max_value = find_max(arr, 0)\n",
    "print(max_value)\n"
   ]
  },
  {
   "cell_type": "code",
   "execution_count": 7,
   "id": "ebc9da5b",
   "metadata": {},
   "outputs": [
    {
     "name": "stdout",
     "output_type": "stream",
     "text": [
      "6\n"
     ]
    }
   ],
   "source": [
    "# <aside>\n",
    "# 💡 **uestion 6**\n",
    "\n",
    "# Given first term (a), common difference (d) and a integer N of the Arithmetic Progression series, the task is to find Nth term of the series.\n",
    "\n",
    "# **Example 1:**\n",
    "\n",
    "# Input : a = 2 d = 1 N = 5\n",
    "# Output : 6\n",
    "# The 5th term of the series is : 6\n",
    "\n",
    "# **Example 2:**\n",
    "\n",
    "# Input : a = 5 d = 2 N = 10\n",
    "# Output : 23\n",
    "# The 10th term of the series is : 23\n",
    "\n",
    "# </aside>\n",
    "\n",
    "def find_nth_term(a, d, N):\n",
    "    return a + (N - 1) * d\n",
    "\n",
    "\n",
    "# Example usage:\n",
    "a = 2\n",
    "d = 1\n",
    "N = 5\n",
    "nth_term = find_nth_term(a, d, N)\n",
    "print(nth_term)\n"
   ]
  },
  {
   "cell_type": "code",
   "execution_count": 8,
   "id": "79c437fe",
   "metadata": {},
   "outputs": [
    {
     "name": "stdout",
     "output_type": "stream",
     "text": [
      "ABC\n",
      "ACB\n",
      "BAC\n",
      "BCA\n",
      "CBA\n",
      "CAB\n"
     ]
    }
   ],
   "source": [
    "# <aside>\n",
    "# 💡 **Question 7**\n",
    "\n",
    "# Given a string S, the task is to write a program to print all permutations of a given string.\n",
    "\n",
    "# **Example 1:**\n",
    "\n",
    "# ***Input:***\n",
    "\n",
    "# *S = “ABC”*\n",
    "\n",
    "# ***Output:***\n",
    "\n",
    "# *“ABC”, “ACB”, “BAC”, “BCA”, “CBA”, “CAB”*\n",
    "\n",
    "# **Example 2:**\n",
    "\n",
    "# ***Input:***\n",
    "\n",
    "# *S = “XY”*\n",
    "\n",
    "# ***Output:***\n",
    "\n",
    "# *“XY”, “YX”*\n",
    "\n",
    "# </aside>\n",
    "\n",
    "def permute(S, l, r):\n",
    "    if l == r:\n",
    "        print(\"\".join(S))\n",
    "    else:\n",
    "        for i in range(l, r + 1):\n",
    "            S[l], S[i] = S[i], S[l]\n",
    "            permute(S, l + 1, r)\n",
    "            S[l], S[i] = S[i], S[l]  # Backtrack\n",
    "\n",
    "\n",
    "# Example usage:\n",
    "S = \"ABC\"\n",
    "permute(list(S), 0, len(S) - 1)\n"
   ]
  },
  {
   "cell_type": "code",
   "execution_count": 9,
   "id": "014ac24c",
   "metadata": {},
   "outputs": [
    {
     "name": "stdout",
     "output_type": "stream",
     "text": [
      "120\n"
     ]
    }
   ],
   "source": [
    "# <aside>\n",
    "# 💡 **Question 8**\n",
    "\n",
    "# Given an array, find a product of all array elements.\n",
    "\n",
    "# **Example 1:**\n",
    "\n",
    "# Input  : arr[] = {1, 2, 3, 4, 5}\n",
    "# Output : 120\n",
    "# **Example 2:**\n",
    "\n",
    "# Input  : arr[] = {1, 6, 3}\n",
    "# Output : 18\n",
    "\n",
    "# </aside>\n",
    "\n",
    "def product_of_array(arr):\n",
    "    product = 1\n",
    "    for num in arr:\n",
    "        product *= num\n",
    "    return product\n",
    "\n",
    "\n",
    "# Example usage:\n",
    "arr = [1, 2, 3, 4, 5]\n",
    "result = product_of_array(arr)\n",
    "print(result)\n"
   ]
  },
  {
   "cell_type": "code",
   "execution_count": null,
   "id": "d5866cbe",
   "metadata": {},
   "outputs": [],
   "source": []
  }
 ],
 "metadata": {
  "kernelspec": {
   "display_name": "Python 3 (ipykernel)",
   "language": "python",
   "name": "python3"
  },
  "language_info": {
   "codemirror_mode": {
    "name": "ipython",
    "version": 3
   },
   "file_extension": ".py",
   "mimetype": "text/x-python",
   "name": "python",
   "nbconvert_exporter": "python",
   "pygments_lexer": "ipython3",
   "version": "3.9.13"
  }
 },
 "nbformat": 4,
 "nbformat_minor": 5
}
