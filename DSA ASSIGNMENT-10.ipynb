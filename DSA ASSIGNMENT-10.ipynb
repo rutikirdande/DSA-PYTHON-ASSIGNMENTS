{
 "cells": [
  {
   "cell_type": "code",
   "execution_count": 1,
   "id": "7ac0450a",
   "metadata": {},
   "outputs": [
    {
     "name": "stdout",
     "output_type": "stream",
     "text": [
      "True\n"
     ]
    }
   ],
   "source": [
    "# <aside>\n",
    "# 💡 **Question 1**\n",
    "\n",
    "# Given an integer `n`, return *`true` if it is a power of three. Otherwise, return `false`*.\n",
    "\n",
    "# An integer `n` is a power of three, if there exists an integer `x` such that `n == 3x`.\n",
    "\n",
    "# </aside>\n",
    "\n",
    "def is_power_of_three(n):\n",
    "    if n <= 0:\n",
    "        return False\n",
    "    while n % 3 == 0:\n",
    "        n /= 3\n",
    "    return n == 1\n",
    "\n",
    "\n",
    "# Example usage:\n",
    "n = 9\n",
    "result = is_power_of_three(n)\n",
    "print(result)\n"
   ]
  },
  {
   "cell_type": "code",
   "execution_count": 4,
   "id": "2aa7aca2",
   "metadata": {},
   "outputs": [
    {
     "name": "stdout",
     "output_type": "stream",
     "text": [
      "4\n"
     ]
    }
   ],
   "source": [
    "# <aside>\n",
    "# 💡 **Question 2**\n",
    "\n",
    "# You have a list `arr` of all integers in the range `[1, n]` sorted in a strictly increasing order. Apply the following algorithm on `arr`:\n",
    "\n",
    "# - Starting from left to right, remove the first number and every other number afterward until you reach the end of the list.\n",
    "# - Repeat the previous step again, but this time from right to left, remove the rightmost number and every other number from the remaining numbers.\n",
    "# - Keep repeating the steps again, alternating left to right and right to left, until a single number remains.\n",
    "\n",
    "# Given the integer `n`, return *the last number that remains in* `arr`.\n",
    "\n",
    "# </aside>\n",
    "\n",
    "def last_remaining_number(n):\n",
    "    arr = list(range(1, n + 1))\n",
    "    return find_last_remaining(arr)\n",
    "\n",
    "def find_last_remaining(arr):\n",
    "    length = len(arr)\n",
    "    if length == 1:\n",
    "        return arr[0]\n",
    "    if length % 2 == 1:\n",
    "        return find_last_remaining(arr[1::2])\n",
    "    else:\n",
    "        return find_last_remaining(arr[1:-1:2])\n",
    "\n",
    "\n",
    "# Example usage:\n",
    "n = 9\n",
    "result = last_remaining_number(n)\n",
    "print(result)\n",
    "\n"
   ]
  },
  {
   "cell_type": "code",
   "execution_count": 3,
   "id": "4a4dffab",
   "metadata": {},
   "outputs": [
    {
     "name": "stdout",
     "output_type": "stream",
     "text": [
      "['abc', 'ab', 'ac', 'a', 'bc', 'b', 'c', '']\n"
     ]
    }
   ],
   "source": [
    "# <aside>\n",
    "# 💡 **Question 3**\n",
    "\n",
    "# ****Given a set represented as a string, write a recursive code to print all subsets of it. The subsets can be printed in any order.\n",
    "\n",
    "# **Example 1:**\n",
    "\n",
    "# Input :  set = “abc”\n",
    "\n",
    "# Output : { “”, “a”, “b”, “c”, “ab”, “ac”, “bc”, “abc”}\n",
    "\n",
    "# **Example 2:**\n",
    "\n",
    "# Input : set = “abcd”\n",
    "\n",
    "# Output : { “”, “a” ,”ab” ,”abc” ,”abcd”, “abd” ,”ac” ,”acd”, “ad” ,”b”, “bc” ,”bcd” ,”bd” ,”c” ,”cd” ,”d” }\n",
    "\n",
    "# </aside>\n",
    "\n",
    "def print_subsets(set_str):\n",
    "    subsets = []\n",
    "\n",
    "    def generate_subsets(set_str, current_subset, index):\n",
    "        if index == len(set_str):\n",
    "            subsets.append(current_subset)\n",
    "            return\n",
    "\n",
    "        generate_subsets(set_str, current_subset + set_str[index], index + 1)\n",
    "        generate_subsets(set_str, current_subset, index + 1)\n",
    "\n",
    "    generate_subsets(set_str, \"\", 0)\n",
    "    return subsets\n",
    "\n",
    "# Example usage:\n",
    "set_str = \"abc\"\n",
    "result = print_subsets(set_str)\n",
    "print(result)\n"
   ]
  },
  {
   "cell_type": "code",
   "execution_count": 5,
   "id": "5cae079e",
   "metadata": {},
   "outputs": [
    {
     "name": "stdout",
     "output_type": "stream",
     "text": [
      "13\n"
     ]
    }
   ],
   "source": [
    "# <aside>\n",
    "# 💡 **Question 4**\n",
    "\n",
    "# Given a string calculate length of the string using recursion.\n",
    "\n",
    "# </aside>\n",
    "\n",
    "def calculate_length(s, i):\n",
    "    if i == len(s):\n",
    "        return 0\n",
    "    else:\n",
    "        return 1 + calculate_length(s, i + 1)\n",
    "\n",
    "# Example usage:\n",
    "string = \"Hello, World!\"\n",
    "length = calculate_length(string, 0)\n",
    "print(length)\n"
   ]
  },
  {
   "cell_type": "code",
   "execution_count": 6,
   "id": "3a2a4986",
   "metadata": {},
   "outputs": [
    {
     "name": "stdout",
     "output_type": "stream",
     "text": [
      "9\n"
     ]
    }
   ],
   "source": [
    "# <aside>\n",
    "# 💡 **Question 5**\n",
    "\n",
    "# We are given a string S, we need to find count of all contiguous substrings starting and ending with same character.\n",
    "\n",
    "# </aside>\n",
    "def count_contiguous_substrings(S):\n",
    "    count = 0\n",
    "    n = len(S)\n",
    "    \n",
    "    for i in range(n):\n",
    "        for j in range(i, n):\n",
    "            if S[i] == S[j]:\n",
    "                count += 1\n",
    "    \n",
    "    return count\n",
    "\n",
    "# Example usage:\n",
    "string = \"ababa\"\n",
    "count = count_contiguous_substrings(string)\n",
    "print(count)\n",
    "\n"
   ]
  },
  {
   "cell_type": "code",
   "execution_count": 7,
   "id": "5e036217",
   "metadata": {},
   "outputs": [
    {
     "name": "stdout",
     "output_type": "stream",
     "text": [
      "Move disc 1 from Rod 1 to Rod 3\n",
      "Move disc 2 from Rod 1 to Rod 2\n",
      "Move disc 1 from Rod 3 to Rod 2\n",
      "Move disc 3 from Rod 1 to Rod 3\n",
      "Move disc 1 from Rod 2 to Rod 1\n",
      "Move disc 2 from Rod 2 to Rod 3\n",
      "Move disc 1 from Rod 1 to Rod 3\n",
      "Total moves: 7\n"
     ]
    }
   ],
   "source": [
    "# <aside>\n",
    "# 💡 **Question 6**\n",
    "\n",
    "# The [tower of Hanoi](https://en.wikipedia.org/wiki/Tower_of_Hanoi) is a famous puzzle where we have three rods and **N** disks. The objective of the puzzle is to move the entire stack to another rod. You are given the number of discs **N**. Initially, these discs are in the rod 1. You need to print all the steps of discs movement so that all the discs reach the 3rd rod. Also, you need to find the total moves.**Note:** The discs are arranged such that the **top disc is numbered 1** and the **bottom-most disc is numbered N**. Also, all the discs have **different sizes** and a bigger disc **cannot** be put on the top of a smaller disc. Refer the provided link to get a better clarity about the puzzle.\n",
    "\n",
    "# </aside>\n",
    "\n",
    "def tower_of_hanoi(n, source, destination, auxiliary):\n",
    "    if n == 1:\n",
    "        print(f\"Move disc 1 from {source} to {destination}\")\n",
    "        return 1\n",
    "\n",
    "    count = 0\n",
    "    count += tower_of_hanoi(n - 1, source, auxiliary, destination)\n",
    "    print(f\"Move disc {n} from {source} to {destination}\")\n",
    "    count += 1\n",
    "    count += tower_of_hanoi(n - 1, auxiliary, destination, source)\n",
    "\n",
    "    return count\n",
    "\n",
    "# Example usage:\n",
    "n = 3\n",
    "moves = tower_of_hanoi(n, 'Rod 1', 'Rod 3', 'Rod 2')\n",
    "print(f\"Total moves: {moves}\")\n"
   ]
  },
  {
   "cell_type": "code",
   "execution_count": 8,
   "id": "d383cecb",
   "metadata": {},
   "outputs": [
    {
     "name": "stdout",
     "output_type": "stream",
     "text": [
      "abc\n",
      "acb\n",
      "bac\n",
      "bca\n",
      "cba\n",
      "cab\n"
     ]
    }
   ],
   "source": [
    "# <aside>\n",
    "# 💡 **Question 7**\n",
    "\n",
    "# Given a string **str**, the task is to print all the permutations of **str**. A **permutation** is an arrangement of all or part of a set of objects, with regard to the order of the arrangement. For instance, the words ‘bat’ and ‘tab’ represents two distinct permutation (or arrangements) of a similar three letter word.\n",
    "\n",
    "# </aside>\n",
    "\n",
    "def permute(str, left, right):\n",
    "    if left == right:\n",
    "        print(''.join(str))\n",
    "\n",
    "    for i in range(left, right + 1):\n",
    "        str[left], str[i] = str[i], str[left]\n",
    "        permute(str, left + 1, right)\n",
    "        str[left], str[i] = str[i], str[left]  # Undo the swap\n",
    "\n",
    "# Example usage:\n",
    "s = \"abc\"\n",
    "n = len(s)\n",
    "permute(list(s), 0, n - 1)\n"
   ]
  },
  {
   "cell_type": "code",
   "execution_count": 9,
   "id": "8c9990d1",
   "metadata": {},
   "outputs": [
    {
     "name": "stdout",
     "output_type": "stream",
     "text": [
      "Number of consonants: 7\n"
     ]
    }
   ],
   "source": [
    "# <aside>\n",
    "# 💡 **Question 8**\n",
    "\n",
    "# Given a string, count total number of consonants in it. A consonant is an English alphabet character that is not vowel (a, e, i, o and u). Examples of constants are b, c, d, f, and g.\n",
    "\n",
    "# </aside>\n",
    "\n",
    "def count_consonants(s):\n",
    "    count = 0\n",
    "    vowels = ['a', 'e', 'i', 'o', 'u']\n",
    "    s = s.lower()\n",
    "\n",
    "    for ch in s:\n",
    "        if ch.isalpha() and ch not in vowels:\n",
    "            count += 1\n",
    "\n",
    "    return count\n",
    "\n",
    "# Example usage:\n",
    "string = \"Hello World\"\n",
    "consonant_count = count_consonants(string)\n",
    "print(\"Number of consonants:\", consonant_count)\n"
   ]
  },
  {
   "cell_type": "code",
   "execution_count": null,
   "id": "eaccb759",
   "metadata": {},
   "outputs": [],
   "source": []
  }
 ],
 "metadata": {
  "kernelspec": {
   "display_name": "Python 3 (ipykernel)",
   "language": "python",
   "name": "python3"
  },
  "language_info": {
   "codemirror_mode": {
    "name": "ipython",
    "version": 3
   },
   "file_extension": ".py",
   "mimetype": "text/x-python",
   "name": "python",
   "nbconvert_exporter": "python",
   "pygments_lexer": "ipython3",
   "version": "3.9.13"
  }
 },
 "nbformat": 4,
 "nbformat_minor": 5
}
